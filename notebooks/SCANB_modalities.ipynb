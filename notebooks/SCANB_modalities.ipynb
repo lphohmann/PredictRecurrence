{
 "cells": [
  {
   "cell_type": "markdown",
   "metadata": {},
   "source": [
    "# Script: overview data modalities SCAN-B\n",
    "Author: Lennart Hohmann (translated to Python)\n",
    "Date: 04.03.2025"
   ]
  },
  {
   "cell_type": "code",
   "execution_count": 5,
   "metadata": {},
   "outputs": [],
   "source": [
    "# import \n",
    "import os\n",
    "import pandas as pd\n",
    "import pyreadr"
   ]
  },
  {
   "cell_type": "code",
   "execution_count": null,
   "metadata": {},
   "outputs": [],
   "source": [
    "# set wd\n",
    "os.chdir(os.path.expanduser(\"~/PhD_Workspace/Project_PredictRecurrence/\"))"
   ]
  },
  {
   "cell_type": "code",
   "execution_count": null,
   "metadata": {},
   "outputs": [],
   "source": [
    "# input paths\n",
    "infile_1 = \"\""
   ]
  }
 ],
 "metadata": {
  "kernelspec": {
   "display_name": "predict_recurrence",
   "language": "python",
   "name": "python3"
  },
  "language_info": {
   "codemirror_mode": {
    "name": "ipython",
    "version": 3
   },
   "file_extension": ".py",
   "mimetype": "text/x-python",
   "name": "python",
   "nbconvert_exporter": "python",
   "pygments_lexer": "ipython3",
   "version": "3.9.21"
  }
 },
 "nbformat": 4,
 "nbformat_minor": 2
}
